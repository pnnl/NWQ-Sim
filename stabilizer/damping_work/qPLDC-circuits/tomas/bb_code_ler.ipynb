{
 "cells": [
  {
   "cell_type": "markdown",
   "id": "a42b08ec",
   "metadata": {},
   "source": [
    "# Demo. Decoder Basics"
   ]
  },
  {
   "cell_type": "code",
   "execution_count": 14,
   "id": "394c296f",
   "metadata": {},
   "outputs": [],
   "source": [
    "import stim\n",
    "import pymatching\n",
    "import sys\n",
    "sys.path.append(\"../QEC-Codes\")  # Adjust the path to import local modules\n",
    "import numpy as np\n",
    "from itertools import product\n",
    "import matplotlib.pyplot as plt\n",
    "from numpy.typing import NDArray\n",
    "import pandas as pd\n",
    "import seaborn as sns\n",
    "import time\n",
    "from sklearn.metrics import r2_score"
   ]
  },
  {
   "cell_type": "code",
   "execution_count": 15,
   "id": "e10c6adb",
   "metadata": {},
   "outputs": [
    {
     "data": {
      "text/plain": [
       "<module 'noise_util' from '/hpc/home/garn195/NWQ-Sim/stabilizer/src/noise_util.py'>"
      ]
     },
     "execution_count": 15,
     "metadata": {},
     "output_type": "execute_result"
    }
   ],
   "source": [
    "# QASM export setup (similar to surface_code_ler)\n",
    "import os, sys, importlib\n",
    "qasm_dir = \"./bb_code_qasm\"\n",
    "os.makedirs(qasm_dir, exist_ok=True)\n",
    "# Make sure we can import the conversion utilities\n",
    "sys.path.insert(0, os.path.abspath(\"../../../src\"))\n",
    "import noise_util as ns\n",
    "importlib.reload(ns)"
   ]
  },
  {
   "cell_type": "markdown",
   "id": "8d7f3dcb",
   "metadata": {},
   "source": [
    "This demo introduces the basics of decoders, focusing on pymatching and BP+OSD.  \n",
    "\n",
    "**What does decoder do?**  \n",
    "The input is the error information/syndromes/detection events, along with the detector error model that assigns probability/weights to each error mechanism. For each sample, the decoder will return a vector that gives the predictions for the logical errors that have happened (for surface code it's just one value because there is only one logical operator, for general codes it should a vector)."
   ]
  },
  {
   "cell_type": "markdown",
   "id": "e49c2325",
   "metadata": {},
   "source": [
    "### 1. Pymatching for repetition codes"
   ]
  },
  {
   "cell_type": "markdown",
   "id": "f83c56c1",
   "metadata": {},
   "source": [
    "### Overall Analysis  \n",
    "**LER decreases with increasing code distance and decreasing physical error rate (PER).**  \n",
    "This behavior is consistent with theoretical expectations: as the code distance increases, more physical errors are required to cause a logical error. Similarly, reducing the physical error rate naturally reduces the probability of uncorrectable faults.\n",
    "\n",
    "<!-- (2) **The break-even PER appears to be ≈ 1, meaning the repetition code always outperforms a single bit.**  \n",
    "At first glance, this seems to contradict the classical result that repetition codes only outperform a single bit when \\( p < 0.5 \\) — since majority vote fails above this threshold. However, the classical result is based on **majority vote decoding**, whereas our experiment uses a **matching decoder** (e.g., `pymatching`), which finds the most likely error consistent with the observed syndrome, and can operate effectively even at high error rates. As a result, it can outperform majority vote and maintain logical error suppression for a much wider range of \\( p \\), even approaching 1.\n",
    "\n",
    "(3) **The error threshold appears to be >0.5, meaning that increasing the code distance can suppresses the LER even when the PER is large.**  \n",
    "In standard fault-tolerance theory, a threshold exists below which increasing the code distance improves logical fidelity, and above which larger codes perform worse. Here, because we are using the powerful **matching decoder** on this simple repetition code, the threshold become very large (>0.5). -->"
   ]
  },
  {
   "cell_type": "markdown",
   "id": "1afeb2e2",
   "metadata": {},
   "source": [
    "### Analysis of LER Scaling\n",
    "\n",
    "In principle, a QEC code of distance $d$ can correct up to $t = \\lfloor \\frac{d-1}{2} \\rfloor$ errors. In the **ideal** case where all these errors are corrected, the leading-order contribution to the LER should be $p^{t+1}$, where $t + 1 = \\lceil \\frac{d+1}{2} \\rceil$ is the weight of uncorrectable errors. In this case, a log-log plot of LER vs $p$ should produce a straight line with slope $t + 1$.\n",
    "\n",
    "In realistic scenarios, however, decoding is imperfect: some correctable errors of weight ≤ $t$ may still lead to logical failure due to decoder suboptimality. As a result, the effective scaling exponent becomes **less than** $t + 1$.\n",
    "\n",
    "Therefore, by fitting the log-log curve $\\log(\\text{LER})$ vs $ \\log(p) $, we can estimate the effective suppression exponent. The **closer the slope is to t+1**, the more effective the decoder is at approaching the ideal case. Conversely, the difference between the slope and the ideal case quantifies suboptimal correction performance under the given noise model and decoding strategy. We can see that when d increases, the leading degrees become closer to t than t+1 and haves the tendency to drop even below t, indicating the fact that it becomes more and more difficult to correct all the errors up to weight t.  \n",
    "\n",
    "The equation $$slope = (d_{eff}+1)/2 $$can give a metric called the \"effective distance $d_{eff}$\", which should be strictly smaller than the true distance $d$."
   ]
  },
  {
   "cell_type": "markdown",
   "id": "715586be",
   "metadata": {},
   "source": [
    "Next, we verify the \"exponential suppression\" of LER in code distance."
   ]
  },
  {
   "cell_type": "code",
   "execution_count": 16,
   "id": "ff64a662",
   "metadata": {},
   "outputs": [],
   "source": [
    "import sinter\n",
    "from typing import List"
   ]
  },
  {
   "cell_type": "markdown",
   "id": "97560a5d",
   "metadata": {},
   "source": [
    "This time we try to add the 2Q gate error and measurement error as well."
   ]
  },
  {
   "cell_type": "markdown",
   "id": "d7dba739",
   "metadata": {},
   "source": [
    "(1) We kind of see a \"threshold behavior\": the LER only suppresses as distance increases when PER is below 10.8\\%. See where the d = 7 and d = 9 line intersect.  \n",
    "(2) We also see a \"break even\" behavior: the LER is belowe PER when p < 10\\%, where encoding into repetition code improves the error resilience compared to a bare qubit."
   ]
  },
  {
   "cell_type": "markdown",
   "id": "06c001ba",
   "metadata": {},
   "source": [
    "### 2. Pymatching for Surface Codes  \n",
    "We directly use Sinter to streamline the sampling. This time we include the BPOSD decoder as well."
   ]
  },
  {
   "cell_type": "code",
   "execution_count": 17,
   "id": "d5bda64d",
   "metadata": {},
   "outputs": [],
   "source": [
    "from bposdd import BPOSD\n",
    "import BBcode\n",
    "# from stimbposdd import SinterDecoder_BPOSD, sinter_decoders"
   ]
  },
  {
   "cell_type": "code",
   "execution_count": 18,
   "id": "f5dbeb60",
   "metadata": {},
   "outputs": [
    {
     "name": "stdout",
     "output_type": "stream",
     "text": [
      "Compiling C++ simulator (MPI)...\n",
      "Compilation successful.\n"
     ]
    }
   ],
   "source": [
    "import subprocess\n",
    "import time\n",
    "\n",
    "# Compile the C++ code once before the loop\n",
    "print(\"Compiling C++ simulator (MPI)...\")\n",
    "# Adjust the path to your C++ file as needed\n",
    "cpp_file_path = './bb_code_sim.cpp'\n",
    "executable_path = './bb_code_sim'\n",
    "\n",
    "compile_command = [\n",
    "    \"mpicxx\",  # Use MPI compiler wrapper\n",
    "    \"-std=c++17\",\n",
    "    \"-O3\",\n",
    "    \"-I../../../../../\", # Include for NWQ-Sim headers\n",
    "    \"-DMPI_ENABLED\",\n",
    "    \"-o\",\n",
    "    executable_path,\n",
    "    cpp_file_path\n",
    "]\n",
    "try:\n",
    "    subprocess.run(compile_command, check=True, capture_output=True, text=True)\n",
    "    print(\"Compilation successful.\")\n",
    "except subprocess.CalledProcessError as e:\n",
    "    print(\"Compilation failed.\")\n",
    "    print(\"--- stdout ---\")\n",
    "    print(e.stdout)\n",
    "    print(\"--- stderr ---\")\n",
    "    print(e.stderr)"
   ]
  },
  {
   "cell_type": "code",
   "execution_count": 19,
   "id": "17c2d790",
   "metadata": {},
   "outputs": [],
   "source": [
    "\n",
    "circuit = \"bicycle_bivariate_144_12_12_memory_Z\"\n",
    "distance = 12\n",
    "rounds = 12\n",
    "SHOTS = 500000\n"
   ]
  },
  {
   "cell_type": "code",
   "execution_count": 20,
   "id": "d2cf0fec",
   "metadata": {},
   "outputs": [
    {
     "name": "stdout",
     "output_type": "stream",
     "text": [
      "[0.00399201 0.00598204 0.00796809 0.00895962 0.00995017 0.01488806\n",
      " 0.01980133 0.03921056 0.05823547]\n",
      "[0.001998   0.0029955  0.00399201 0.00448989 0.00498752 0.00747195\n",
      " 0.00995017 0.01980133 0.02955447]\n"
     ]
    }
   ],
   "source": [
    "#Parameters\n",
    "tasks = []\n",
    "T1 = 10 ** -4\n",
    "T2 = 10 ** -4\n",
    "tau = np.array([4*10**-7, 6*10**-7, 8*10**-7, 9*10**-7, 10**-6, 1.5*10**-6, 2*10**-6, 4*10**-6, 6*10**-6])\n",
    "lam = 1/T2 - 1/(2*T1)\n",
    "p_amp = 1 - np.exp(-tau/T1)\n",
    "p_phase = 1 - np.exp(-lam*tau)\n",
    "p_list = (p_amp, p_phase)\n",
    "base_error = 0.000\n",
    "\n",
    "bb_code = BBcode.BBcode(\n",
    "    n=144, k=12, d=12, m=6, l=12,\n",
    "    A=[[3, 0], [0, 1], [0, 2]],\n",
    "    B=[[0, 3], [1, 0], [2, 0]],\n",
    "    shift=[0, 0],\n",
    "    f=[[0, 0], [1, 0], [2, 0], [3, 0], [6, 0], [7, 0], [8, 0], [9, 0], [1, 3], [5, 3], [7, 3], [11, 3]],\n",
    "    g=[[1, 0], [2, 1], [0, 2], [1, 2], [2, 3], [0, 4]],\n",
    "    h=[[0, 0], [0, 1], [1, 1], [0, 2], [0, 3], [1, 3]],\n",
    "    alpha=[[0, 0], [0, 1], [2, 1], [2, 5], [3, 2], [4, 0]],\n",
    "    beta=[[0, 1], [0, 5], [1, 1], [0, 0], [4, 0], [5, 2]],\n",
    ")\n",
    "print(p_amp)\n",
    "print(p_phase)\n",
    "i=0\n",
    "for p_amp, p_phase in zip(p_amp, p_phase):\n",
    "    noise_profile = [0,0,0,0]\n",
    "    circuit = bb_code.build_full_BBcode_circuit(rounds=rounds, noise_profile=noise_profile, observable_type=\"Z\", code_capacity=True)\n",
    "\n",
    "    #Generate stim circuit\n",
    "    model = ns.ErrorModel(circuit)\n",
    "    model.setting_error('Identity', False, f'DEPOLARIZE1({base_error})')\n",
    "    model.setting_error('Single_qubit', False, f'DEPOLARIZE1({base_error})')\n",
    "    model.setting_error('Two_qubit', False, f'DEPOLARIZE2({base_error})')\n",
    "    model.setting_error('Measurement', True, f'PAULI_CHANNEL_1({p_amp/4}, {p_amp/4}, {p_amp/4 + p_phase/2})')\n",
    "    model.setting_error('Reset', True, f'PAULI_CHANNEL_1({p_amp/4}, {p_amp/4}, {p_amp/4 + p_phase/2})')\n",
    "    stim_circuit = model.generate_noisy_circuit()\n",
    "    tasks.append(sinter.Task(circuit=stim_circuit, json_metadata={'d': distance, \"trial\":i}))\n",
    "\n",
    "    #Generate stabsim circuit\n",
    "    model.setting_error('Measurement', True, f'AMPLITUDE_DAMP({p_phase}, {p_amp})')\n",
    "    model.setting_error('Reset', True, f'AMPLITUDE_DAMP({p_phase}, {p_amp})')\n",
    "    stab_circuit = model.generate_noisy_circuit()\n",
    "    qasm_output = ns.stim_to_qasm_with_depolarize_noise(stab_circuit)\n",
    "    # Inject AMPLITUDE_DAMP around M/RESET in QASM using the model settings\n",
    "    qasm_output = ns.inject_amplitude_damp(qasm_output, model)\n",
    "    \n",
    "    try:\n",
    "        qasm_path = os.path.join(qasm_dir, f\"bb_code_d{distance}_p{i}.qasm\")\n",
    "        with open(qasm_path, \"w\") as f:\n",
    "            f.write(qasm_output)\n",
    "    except Exception as e:\n",
    "        print(f\"Failed to export QASM for p={p_amp}: {e}\")\n",
    "    i+=1\n"
   ]
  },
  {
   "cell_type": "code",
   "execution_count": 21,
   "id": "c72945c1",
   "metadata": {},
   "outputs": [
    {
     "name": "stdout",
     "output_type": "stream",
     "text": [
      "\n",
      "--- Running Stim for p = 0 ---\n"
     ]
    },
    {
     "name": "stdout",
     "output_type": "stream",
     "text": [
      "Stim LER: 0.0000, Sim+Decoding Time: 49.5740s\n",
      "\n",
      "--- Running Stim for p = 1 ---\n",
      "Stim LER: 0.0000, Sim+Decoding Time: 50.4363s\n",
      "\n",
      "--- Running Stim for p = 2 ---\n",
      "Stim LER: 0.0000, Sim+Decoding Time: 50.6191s\n",
      "\n",
      "--- Running Stim for p = 3 ---\n",
      "Stim LER: 0.0000, Sim+Decoding Time: 50.9881s\n",
      "\n",
      "--- Running Stim for p = 4 ---\n",
      "Stim LER: 0.0000, Sim+Decoding Time: 50.8714s\n",
      "\n",
      "--- Running Stim for p = 5 ---\n",
      "Stim LER: 0.0000, Sim+Decoding Time: 51.3962s\n",
      "\n",
      "--- Running Stim for p = 6 ---\n",
      "Stim LER: 0.0000, Sim+Decoding Time: 68.6411s\n",
      "\n",
      "--- Running Stim for p = 7 ---\n",
      "Stim LER: 0.0014, Sim+Decoding Time: 24.2068s\n",
      "\n",
      "--- Running Stim for p = 8 ---\n",
      "Stim LER: 0.0057, Sim+Decoding Time: 9.0048s\n",
      "\n",
      "Stim complete.\n",
      "Stim LERs: [0.0, 0.0, 0.0, 4e-06, 8e-06, 6e-06, 1.6e-05, 0.0013602308004519476, 0.005662083075605462]\n"
     ]
    }
   ],
   "source": [
    "def run_stim_experiment(tasks, shots):\n",
    "    stim_lers = []\n",
    "    for i,task in enumerate(tasks):\n",
    "        print(f\"\\n--- Running Stim for p = {i} ---\")\n",
    "        start_time = time.perf_counter()\n",
    "        collected_stats = sinter.collect(\n",
    "            num_workers=min(os.cpu_count()*.1, len(tasks)),\n",
    "            tasks=[task],\n",
    "            decoders=['bposd'],\n",
    "            max_shots=shots,\n",
    "            max_errors=100,\n",
    "            custom_decoders={\n",
    "                'bposd': BPOSD(\n",
    "                    max_iter=100,\n",
    "                    bp_method=\"ms\",\n",
    "                    osd_order=2,\n",
    "                    osd_method=\"osd_cs\"\n",
    "                )\n",
    "            },\n",
    "            print_progress=False,\n",
    "        )\n",
    "        stim_time = time.perf_counter() - start_time\n",
    "        stat = collected_stats[0]\n",
    "        stim_ler = stat.errors / stat.shots if stat.shots > 0 else 0.0\n",
    "        stim_lers.append(stim_ler)\n",
    "        print(f\"Stim LER: {stim_ler}, Sim+Decoding Time: {stim_time}s\")\n",
    "    return stim_lers\n",
    "\n",
    "# --- Run Stim-only experiment ---\n",
    "stim_logical_error_rates = run_stim_experiment(tasks, SHOTS)\n",
    "print(\"\\nStim complete.\")\n",
    "print(\"Stim LERs:\", stim_logical_error_rates)\n"
   ]
  },
  {
   "cell_type": "code",
   "execution_count": 22,
   "id": "461ed161",
   "metadata": {},
   "outputs": [
    {
     "name": "stdout",
     "output_type": "stream",
     "text": [
      "\n",
      "--- Running C++ (MPI) for p = 0 ---\n"
     ]
    },
    {
     "ename": "TypeError",
     "evalue": "'float' object cannot be interpreted as an integer",
     "output_type": "error",
     "traceback": [
      "\u001b[31m---------------------------------------------------------------------------\u001b[39m",
      "\u001b[31mTypeError\u001b[39m                                 Traceback (most recent call last)",
      "\u001b[36mCell\u001b[39m\u001b[36m \u001b[39m\u001b[32mIn[22]\u001b[39m\u001b[32m, line 126\u001b[39m\n\u001b[32m    122\u001b[39m     \u001b[38;5;28;01mreturn\u001b[39;00m cpp_lers\n\u001b[32m    124\u001b[39m \u001b[38;5;66;03m# --- Run C++-only experiment ---\u001b[39;00m\n\u001b[32m    125\u001b[39m \u001b[38;5;66;03m# reuse SHOTS from previous cell\u001b[39;00m\n\u001b[32m--> \u001b[39m\u001b[32m126\u001b[39m cpp_logical_error_rates = \u001b[43mrun_cpp_experiment\u001b[49m\u001b[43m(\u001b[49m\u001b[43mtasks\u001b[49m\u001b[43m,\u001b[49m\u001b[43m \u001b[49m\u001b[43mSHOTS\u001b[49m\u001b[43m)\u001b[49m\n\u001b[32m    127\u001b[39m \u001b[38;5;28mprint\u001b[39m(\u001b[33m\"\u001b[39m\u001b[38;5;130;01m\\n\u001b[39;00m\u001b[33mC++ complete.\u001b[39m\u001b[33m\"\u001b[39m)\n\u001b[32m    128\u001b[39m \u001b[38;5;28mprint\u001b[39m(\u001b[33m\"\u001b[39m\u001b[33mC++ LERs:\u001b[39m\u001b[33m\"\u001b[39m, cpp_logical_error_rates)\n",
      "\u001b[36mCell\u001b[39m\u001b[36m \u001b[39m\u001b[32mIn[22]\u001b[39m\u001b[32m, line 108\u001b[39m, in \u001b[36mrun_cpp_experiment\u001b[39m\u001b[34m(tasks, shots)\u001b[39m\n\u001b[32m    105\u001b[39m det_chunks = [cpp_det_samples[i:i+chunk_size] \u001b[38;5;28;01mfor\u001b[39;00m i \u001b[38;5;129;01min\u001b[39;00m \u001b[38;5;28mrange\u001b[39m(\u001b[32m0\u001b[39m, total_shots, chunk_size)]\n\u001b[32m    106\u001b[39m obs_chunks = [cpp_obs_flips[i:i+chunk_size] \u001b[38;5;28;01mfor\u001b[39;00m i \u001b[38;5;129;01min\u001b[39;00m \u001b[38;5;28mrange\u001b[39m(\u001b[32m0\u001b[39m, total_shots, chunk_size)]\n\u001b[32m--> \u001b[39m\u001b[32m108\u001b[39m \u001b[38;5;28;01mwith\u001b[39;00m \u001b[43mProcessPoolExecutor\u001b[49m\u001b[43m(\u001b[49m\n\u001b[32m    109\u001b[39m \u001b[43m    \u001b[49m\u001b[43mmax_workers\u001b[49m\u001b[43m=\u001b[49m\u001b[43mdecode_workers\u001b[49m\u001b[43m,\u001b[49m\n\u001b[32m    110\u001b[39m \u001b[43m    \u001b[49m\u001b[43minitializer\u001b[49m\u001b[43m=\u001b[49m\u001b[43mbposd_mp\u001b[49m\u001b[43m.\u001b[49m\u001b[43mworker_init\u001b[49m\u001b[43m,\u001b[49m\n\u001b[32m    111\u001b[39m \u001b[43m    \u001b[49m\u001b[43minitargs\u001b[49m\u001b[43m=\u001b[49m\u001b[43m(\u001b[49m\u001b[43mpcm\u001b[49m\u001b[43m.\u001b[49m\u001b[43mcheck_matrix\u001b[49m\u001b[43m,\u001b[49m\u001b[43m \u001b[49m\u001b[43mpcm\u001b[49m\u001b[43m.\u001b[49m\u001b[43mpriors\u001b[49m\u001b[43m,\u001b[49m\u001b[43m \u001b[49m\u001b[43mlogicals_matrix\u001b[49m\u001b[43m,\u001b[49m\u001b[43m \u001b[49m\u001b[43mdecoder_kwargs\u001b[49m\u001b[43m)\u001b[49m\u001b[43m,\u001b[49m\n\u001b[32m    112\u001b[39m \u001b[43m\u001b[49m\u001b[43m)\u001b[49m \u001b[38;5;28;01mas\u001b[39;00m ex:\n\u001b[32m    113\u001b[39m     total_errors = \u001b[38;5;28msum\u001b[39m(ex.map(bposd_mp.count_errors, det_chunks, obs_chunks))\n\u001b[32m    115\u001b[39m cpp_ler = \u001b[38;5;28mfloat\u001b[39m(total_errors) / \u001b[38;5;28mfloat\u001b[39m(total_shots)\n",
      "\u001b[36mFile \u001b[39m\u001b[32m/hpc/software/spack/opt/spack/linux-ubuntu22.04-cascadelake/gcc-11.4.0/python-3.12.1-w2twytzz3a26xpx3vkdsd7dbpgrkfyt7/lib/python3.12/concurrent/futures/process.py:759\u001b[39m, in \u001b[36mProcessPoolExecutor.__init__\u001b[39m\u001b[34m(self, max_workers, mp_context, initializer, initargs, max_tasks_per_child)\u001b[39m\n\u001b[32m    754\u001b[39m \u001b[38;5;66;03m# Create communication channels for the executor\u001b[39;00m\n\u001b[32m    755\u001b[39m \u001b[38;5;66;03m# Make the call queue slightly larger than the number of processes to\u001b[39;00m\n\u001b[32m    756\u001b[39m \u001b[38;5;66;03m# prevent the worker processes from idling. But don't make it too big\u001b[39;00m\n\u001b[32m    757\u001b[39m \u001b[38;5;66;03m# because futures in the call queue cannot be cancelled.\u001b[39;00m\n\u001b[32m    758\u001b[39m queue_size = \u001b[38;5;28mself\u001b[39m._max_workers + EXTRA_QUEUED_CALLS\n\u001b[32m--> \u001b[39m\u001b[32m759\u001b[39m \u001b[38;5;28mself\u001b[39m._call_queue = \u001b[43m_SafeQueue\u001b[49m\u001b[43m(\u001b[49m\n\u001b[32m    760\u001b[39m \u001b[43m    \u001b[49m\u001b[43mmax_size\u001b[49m\u001b[43m=\u001b[49m\u001b[43mqueue_size\u001b[49m\u001b[43m,\u001b[49m\u001b[43m \u001b[49m\u001b[43mctx\u001b[49m\u001b[43m=\u001b[49m\u001b[38;5;28;43mself\u001b[39;49m\u001b[43m.\u001b[49m\u001b[43m_mp_context\u001b[49m\u001b[43m,\u001b[49m\n\u001b[32m    761\u001b[39m \u001b[43m    \u001b[49m\u001b[43mpending_work_items\u001b[49m\u001b[43m=\u001b[49m\u001b[38;5;28;43mself\u001b[39;49m\u001b[43m.\u001b[49m\u001b[43m_pending_work_items\u001b[49m\u001b[43m,\u001b[49m\n\u001b[32m    762\u001b[39m \u001b[43m    \u001b[49m\u001b[43mshutdown_lock\u001b[49m\u001b[43m=\u001b[49m\u001b[38;5;28;43mself\u001b[39;49m\u001b[43m.\u001b[49m\u001b[43m_shutdown_lock\u001b[49m\u001b[43m,\u001b[49m\n\u001b[32m    763\u001b[39m \u001b[43m    \u001b[49m\u001b[43mthread_wakeup\u001b[49m\u001b[43m=\u001b[49m\u001b[38;5;28;43mself\u001b[39;49m\u001b[43m.\u001b[49m\u001b[43m_executor_manager_thread_wakeup\u001b[49m\u001b[43m)\u001b[49m\n\u001b[32m    764\u001b[39m \u001b[38;5;66;03m# Killed worker processes can produce spurious \"broken pipe\"\u001b[39;00m\n\u001b[32m    765\u001b[39m \u001b[38;5;66;03m# tracebacks in the queue's own worker thread. But we detect killed\u001b[39;00m\n\u001b[32m    766\u001b[39m \u001b[38;5;66;03m# processes anyway, so silence the tracebacks.\u001b[39;00m\n\u001b[32m    767\u001b[39m \u001b[38;5;28mself\u001b[39m._call_queue._ignore_epipe = \u001b[38;5;28;01mTrue\u001b[39;00m\n",
      "\u001b[36mFile \u001b[39m\u001b[32m/hpc/software/spack/opt/spack/linux-ubuntu22.04-cascadelake/gcc-11.4.0/python-3.12.1-w2twytzz3a26xpx3vkdsd7dbpgrkfyt7/lib/python3.12/concurrent/futures/process.py:175\u001b[39m, in \u001b[36m_SafeQueue.__init__\u001b[39m\u001b[34m(self, max_size, ctx, pending_work_items, shutdown_lock, thread_wakeup)\u001b[39m\n\u001b[32m    173\u001b[39m \u001b[38;5;28mself\u001b[39m.shutdown_lock = shutdown_lock\n\u001b[32m    174\u001b[39m \u001b[38;5;28mself\u001b[39m.thread_wakeup = thread_wakeup\n\u001b[32m--> \u001b[39m\u001b[32m175\u001b[39m \u001b[38;5;28;43msuper\u001b[39;49m\u001b[43m(\u001b[49m\u001b[43m)\u001b[49m\u001b[43m.\u001b[49m\u001b[34;43m__init__\u001b[39;49m\u001b[43m(\u001b[49m\u001b[43mmax_size\u001b[49m\u001b[43m,\u001b[49m\u001b[43m \u001b[49m\u001b[43mctx\u001b[49m\u001b[43m=\u001b[49m\u001b[43mctx\u001b[49m\u001b[43m)\u001b[49m\n",
      "\u001b[36mFile \u001b[39m\u001b[32m/hpc/software/spack/opt/spack/linux-ubuntu22.04-cascadelake/gcc-11.4.0/python-3.12.1-w2twytzz3a26xpx3vkdsd7dbpgrkfyt7/lib/python3.12/multiprocessing/queues.py:49\u001b[39m, in \u001b[36mQueue.__init__\u001b[39m\u001b[34m(self, maxsize, ctx)\u001b[39m\n\u001b[32m     47\u001b[39m \u001b[38;5;28;01melse\u001b[39;00m:\n\u001b[32m     48\u001b[39m     \u001b[38;5;28mself\u001b[39m._wlock = ctx.Lock()\n\u001b[32m---> \u001b[39m\u001b[32m49\u001b[39m \u001b[38;5;28mself\u001b[39m._sem = \u001b[43mctx\u001b[49m\u001b[43m.\u001b[49m\u001b[43mBoundedSemaphore\u001b[49m\u001b[43m(\u001b[49m\u001b[43mmaxsize\u001b[49m\u001b[43m)\u001b[49m\n\u001b[32m     50\u001b[39m \u001b[38;5;66;03m# For use by concurrent.futures\u001b[39;00m\n\u001b[32m     51\u001b[39m \u001b[38;5;28mself\u001b[39m._ignore_epipe = \u001b[38;5;28;01mFalse\u001b[39;00m\n",
      "\u001b[36mFile \u001b[39m\u001b[32m/hpc/software/spack/opt/spack/linux-ubuntu22.04-cascadelake/gcc-11.4.0/python-3.12.1-w2twytzz3a26xpx3vkdsd7dbpgrkfyt7/lib/python3.12/multiprocessing/context.py:88\u001b[39m, in \u001b[36mBaseContext.BoundedSemaphore\u001b[39m\u001b[34m(self, value)\u001b[39m\n\u001b[32m     86\u001b[39m \u001b[38;5;250m\u001b[39m\u001b[33;03m'''Returns a bounded semaphore object'''\u001b[39;00m\n\u001b[32m     87\u001b[39m \u001b[38;5;28;01mfrom\u001b[39;00m\u001b[38;5;250m \u001b[39m\u001b[34;01m.\u001b[39;00m\u001b[34;01msynchronize\u001b[39;00m\u001b[38;5;250m \u001b[39m\u001b[38;5;28;01mimport\u001b[39;00m BoundedSemaphore\n\u001b[32m---> \u001b[39m\u001b[32m88\u001b[39m \u001b[38;5;28;01mreturn\u001b[39;00m \u001b[43mBoundedSemaphore\u001b[49m\u001b[43m(\u001b[49m\u001b[43mvalue\u001b[49m\u001b[43m,\u001b[49m\u001b[43m \u001b[49m\u001b[43mctx\u001b[49m\u001b[43m=\u001b[49m\u001b[38;5;28;43mself\u001b[39;49m\u001b[43m.\u001b[49m\u001b[43mget_context\u001b[49m\u001b[43m(\u001b[49m\u001b[43m)\u001b[49m\u001b[43m)\u001b[49m\n",
      "\u001b[36mFile \u001b[39m\u001b[32m/hpc/software/spack/opt/spack/linux-ubuntu22.04-cascadelake/gcc-11.4.0/python-3.12.1-w2twytzz3a26xpx3vkdsd7dbpgrkfyt7/lib/python3.12/multiprocessing/synchronize.py:152\u001b[39m, in \u001b[36mBoundedSemaphore.__init__\u001b[39m\u001b[34m(self, value, ctx)\u001b[39m\n\u001b[32m    151\u001b[39m \u001b[38;5;28;01mdef\u001b[39;00m\u001b[38;5;250m \u001b[39m\u001b[34m__init__\u001b[39m(\u001b[38;5;28mself\u001b[39m, value=\u001b[32m1\u001b[39m, *, ctx):\n\u001b[32m--> \u001b[39m\u001b[32m152\u001b[39m     \u001b[43mSemLock\u001b[49m\u001b[43m.\u001b[49m\u001b[34;43m__init__\u001b[39;49m\u001b[43m(\u001b[49m\u001b[38;5;28;43mself\u001b[39;49m\u001b[43m,\u001b[49m\u001b[43m \u001b[49m\u001b[43mSEMAPHORE\u001b[49m\u001b[43m,\u001b[49m\u001b[43m \u001b[49m\u001b[43mvalue\u001b[49m\u001b[43m,\u001b[49m\u001b[43m \u001b[49m\u001b[43mvalue\u001b[49m\u001b[43m,\u001b[49m\u001b[43m \u001b[49m\u001b[43mctx\u001b[49m\u001b[43m=\u001b[49m\u001b[43mctx\u001b[49m\u001b[43m)\u001b[49m\n",
      "\u001b[36mFile \u001b[39m\u001b[32m/hpc/software/spack/opt/spack/linux-ubuntu22.04-cascadelake/gcc-11.4.0/python-3.12.1-w2twytzz3a26xpx3vkdsd7dbpgrkfyt7/lib/python3.12/multiprocessing/synchronize.py:57\u001b[39m, in \u001b[36mSemLock.__init__\u001b[39m\u001b[34m(self, kind, value, maxvalue, ctx)\u001b[39m\n\u001b[32m     55\u001b[39m \u001b[38;5;28;01mfor\u001b[39;00m i \u001b[38;5;129;01min\u001b[39;00m \u001b[38;5;28mrange\u001b[39m(\u001b[32m100\u001b[39m):\n\u001b[32m     56\u001b[39m     \u001b[38;5;28;01mtry\u001b[39;00m:\n\u001b[32m---> \u001b[39m\u001b[32m57\u001b[39m         sl = \u001b[38;5;28mself\u001b[39m._semlock = \u001b[43m_multiprocessing\u001b[49m\u001b[43m.\u001b[49m\u001b[43mSemLock\u001b[49m\u001b[43m(\u001b[49m\n\u001b[32m     58\u001b[39m \u001b[43m            \u001b[49m\u001b[43mkind\u001b[49m\u001b[43m,\u001b[49m\u001b[43m \u001b[49m\u001b[43mvalue\u001b[49m\u001b[43m,\u001b[49m\u001b[43m \u001b[49m\u001b[43mmaxvalue\u001b[49m\u001b[43m,\u001b[49m\u001b[43m \u001b[49m\u001b[38;5;28;43mself\u001b[39;49m\u001b[43m.\u001b[49m\u001b[43m_make_name\u001b[49m\u001b[43m(\u001b[49m\u001b[43m)\u001b[49m\u001b[43m,\u001b[49m\n\u001b[32m     59\u001b[39m \u001b[43m            \u001b[49m\u001b[43munlink_now\u001b[49m\u001b[43m)\u001b[49m\n\u001b[32m     60\u001b[39m     \u001b[38;5;28;01mexcept\u001b[39;00m \u001b[38;5;167;01mFileExistsError\u001b[39;00m:\n\u001b[32m     61\u001b[39m         \u001b[38;5;28;01mpass\u001b[39;00m\n",
      "\u001b[31mTypeError\u001b[39m: 'float' object cannot be interpreted as an integer"
     ]
    }
   ],
   "source": [
    "from concurrent.futures import ProcessPoolExecutor\n",
    "import bposd_mp\n",
    "\n",
    "def run_cpp_experiment(tasks, shots):\n",
    "    cpp_lers = []\n",
    "    for i, task in enumerate(tasks):\n",
    "        p = task.json_metadata.get('pM', 0)\n",
    "        d = task.json_metadata.get('d', 0)\n",
    "        print(f\"\\n--- Running C++ (MPI) for p = {i} ---\")\n",
    "\n",
    "        # Paths\n",
    "        p_tag = f\"{p:.0e}\".replace(\"+\", \"\")\n",
    "        qasm_file_path = os.path.join(qasm_dir, f\"bb_code_d{d}_p{i}.qasm\")\n",
    "        cpp_output_path = os.path.join(qasm_dir, f\"measurements_d{d}_p{i}.txt\")\n",
    "\n",
    "        # MPI execution\n",
    "        num_qubits = task.circuit.num_qubits\n",
    "        mpi_ranks = max(1, min(os.cpu_count()*.1 or 1, shots))  # don't spawn more ranks than shots\n",
    "        iters = shots\n",
    "\n",
    "        env = os.environ.copy()\n",
    "        env.update({\n",
    "            \"OMP_NUM_THREADS\": \"1\",\n",
    "            \"OPENBLAS_NUM_THREADS\": \"1\",\n",
    "            \"MKL_NUM_THREADS\": \"1\",\n",
    "            \"VECLIB_MAXIMUM_THREADS\": \"1\",\n",
    "            \"NUMEXPR_NUM_THREADS\": \"1\",\n",
    "        })\n",
    "\n",
    "        run_command = [\n",
    "            \"mpirun\", \"-np\", str(mpi_ranks),\n",
    "            \"./bb_code_sim\", str(num_qubits), str(iters), qasm_file_path, cpp_output_path\n",
    "        ]\n",
    "\n",
    "        cpp_time = 0.0\n",
    "        try:\n",
    "            result = subprocess.run(run_command, check=True, capture_output=True, text=True, env=env)\n",
    "            for line in result.stdout.strip().split('\\n'):\n",
    "                if \"Total C++ simulation time\" in line:\n",
    "                    try:\n",
    "                        cpp_time = float(line.split(':')[1].strip().replace('s', ''))\n",
    "                    except (ValueError, IndexError):\n",
    "                        pass\n",
    "        except subprocess.CalledProcessError as e:\n",
    "            print(\"C++ simulation failed to execute.\")\n",
    "            print(\"Return code:\", e.returncode)\n",
    "            print(\"--- stdout ---\")\n",
    "            print(e.stdout)\n",
    "            print(\"--- stderr ---\")\n",
    "            print(e.stderr)\n",
    "            cpp_lers.append(0.0)\n",
    "            continue\n",
    "\n",
    "        # Post-process + parallel BPOSD decoding\n",
    "        cpp_ler = 0.0\n",
    "        try:\n",
    "            with open(cpp_output_path, \"r\") as f:\n",
    "                measurement_strings = [line for line in f.read().strip().split('\\n') if line]\n",
    "\n",
    "            if measurement_strings:\n",
    "                measurement_data = np.array(\n",
    "                    [list(map(int, line.split())) for line in measurement_strings],\n",
    "                    dtype=np.int8\n",
    "                ).astype(bool)\n",
    "\n",
    "                m2d_converter = task.circuit.compile_m2d_converter()\n",
    "                cpp_det_samples, cpp_obs_flips = m2d_converter.convert(\n",
    "                    measurements=measurement_data,\n",
    "                    separate_observables=True\n",
    "                )\n",
    "\n",
    "                dem = task.circuit.detector_error_model(\n",
    "                    decompose_errors=True,\n",
    "                    ignore_decomposition_failures=True\n",
    "                )\n",
    "\n",
    "                from beliefmatching import detector_error_model_to_check_matrices\n",
    "                pcm = detector_error_model_to_check_matrices(dem, allow_undecomposed_hyperedges=True)\n",
    "\n",
    "                logicals_matrix = pcm.observables_matrix\n",
    "                decoder_kwargs = dict(\n",
    "                    max_iter=100,\n",
    "                    bp_method=\"ms\",\n",
    "                    osd_order=2,\n",
    "                    osd_method=\"osd_cs\",\n",
    "                )\n",
    "\n",
    "                # ...existing code...\n",
    "                total_shots = len(cpp_det_samples)\n",
    "                if total_shots > 0:\n",
    "                    import math\n",
    "\n",
    "                    cpu = os.cpu_count()*.1\n",
    "\n",
    "                    # Adaptive split:\n",
    "                    # workers ≈ ceil(cpu^2 / total_shots), bounded to [1, cpu]\n",
    "                    # - Large shots -> fewer workers, more threads per worker\n",
    "                    # - Small shots -> more workers, fewer threads per worker\n",
    "                    decode_workers = max(1, cpu)\n",
    "\n",
    "                    # Partition shots: ~4 chunks per worker, min 8 shots per chunk\n",
    "                    chunk_target = max(1, decode_workers * 4)\n",
    "                    chunk_size = max(8, math.ceil(total_shots / chunk_target))\n",
    "\n",
    "                    det_chunks = [cpp_det_samples[i:i+chunk_size] for i in range(0, total_shots, chunk_size)]\n",
    "                    obs_chunks = [cpp_obs_flips[i:i+chunk_size] for i in range(0, total_shots, chunk_size)]\n",
    "\n",
    "                    with ProcessPoolExecutor(\n",
    "                        max_workers=decode_workers,\n",
    "                        initializer=bposd_mp.worker_init,\n",
    "                        initargs=(pcm.check_matrix, pcm.priors, logicals_matrix, decoder_kwargs),\n",
    "                    ) as ex:\n",
    "                        total_errors = sum(ex.map(bposd_mp.count_errors, det_chunks, obs_chunks))\n",
    "\n",
    "                    cpp_ler = float(total_errors) / float(total_shots)\n",
    "# ...existing code...\n",
    "        except FileNotFoundError:\n",
    "            print(f\"C++ output file not found at {cpp_output_path}. Skipping analysis.\")\n",
    "\n",
    "        cpp_lers.append(cpp_ler)\n",
    "        print(f\"C++ LER: {cpp_ler}, Sim Time: {cpp_time}s\")\n",
    "    return cpp_lers\n",
    "\n",
    "# --- Run C++-only experiment ---\n",
    "# reuse SHOTS from previous cell\n",
    "cpp_logical_error_rates = run_cpp_experiment(tasks, SHOTS)\n",
    "print(\"\\nC++ complete.\")\n",
    "print(\"C++ LERs:\", cpp_logical_error_rates)\n",
    "# ...existing code..."
   ]
  },
  {
   "cell_type": "code",
   "execution_count": 23,
   "id": "16624232",
   "metadata": {},
   "outputs": [
    {
     "ename": "NameError",
     "evalue": "name 'cpp_logical_error_rates' is not defined",
     "output_type": "error",
     "traceback": [
      "\u001b[31m---------------------------------------------------------------------------\u001b[39m",
      "\u001b[31mNameError\u001b[39m                                 Traceback (most recent call last)",
      "\u001b[36mCell\u001b[39m\u001b[36m \u001b[39m\u001b[32mIn[23]\u001b[39m\u001b[32m, line 5\u001b[39m\n\u001b[32m      2\u001b[39m plt.figure(figsize=(\u001b[32m8\u001b[39m, \u001b[32m6\u001b[39m))\n\u001b[32m      4\u001b[39m plt.plot(tau/T1, stim_logical_error_rates, \u001b[33m'\u001b[39m\u001b[33mo-\u001b[39m\u001b[33m'\u001b[39m, label=\u001b[33m'\u001b[39m\u001b[33mStim LER (BP+OSD)\u001b[39m\u001b[33m'\u001b[39m)\n\u001b[32m----> \u001b[39m\u001b[32m5\u001b[39m plt.plot(tau/T1, \u001b[43mcpp_logical_error_rates\u001b[49m, \u001b[33m'\u001b[39m\u001b[33ms--\u001b[39m\u001b[33m'\u001b[39m, label=\u001b[33m'\u001b[39m\u001b[33mC++ LER (BP+OSD)\u001b[39m\u001b[33m'\u001b[39m)\n\u001b[32m      6\u001b[39m plt.xlabel(\u001b[33m\"\u001b[39m\u001b[33mPhysical Error Rate (p)\u001b[39m\u001b[33m\"\u001b[39m)\n\u001b[32m      7\u001b[39m plt.ylabel(\u001b[33m\"\u001b[39m\u001b[33mLogical Error Rate (LER)\u001b[39m\u001b[33m\"\u001b[39m)\n",
      "\u001b[31mNameError\u001b[39m: name 'cpp_logical_error_rates' is not defined"
     ]
    },
    {
     "data": {
      "image/png": "[encoded data removed]",
      "text/plain": [
       "<Figure size 800x600 with 1 Axes>"
      ]
     },
     "metadata": {},
     "output_type": "display_data"
    }
   ],
   "source": [
    "# --- Plotting Results ---\n",
    "plt.figure(figsize=(8, 6))\n",
    "\n",
    "plt.plot(tau/T1, stim_logical_error_rates, 'o-', label='Stim LER (BP+OSD)')\n",
    "plt.plot(tau/T1, cpp_logical_error_rates, 's--', label='C++ LER (BP+OSD)')\n",
    "plt.xlabel(\"Physical Error Rate (p)\")\n",
    "plt.ylabel(\"Logical Error Rate (LER)\")\n",
    "plt.title(f\"LER vs. Physical Error Rate for BB Code (d={distance})\")\n",
    "plt.xscale('log')\n",
    "plt.yscale('log')\n",
    "plt.grid(True, which=\"both\", ls=\"--\")\n",
    "plt.legend()\n",
    "plt.tight_layout()\n",
    "plt.show()"
   ]
  },
  {
   "cell_type": "code",
   "execution_count": null,
   "id": "7d914220",
   "metadata": {},
   "outputs": [
    {
     "name": "stdout",
     "output_type": "stream",
     "text": [
      "NVIDIA QEC BP decoder not available. Install CUDA-Q QEC. Skipping.\n",
      "\n",
      "Stim (NVIDIA BP) complete.\n",
      "Stim LERs (NV BP): [nan, nan, nan, nan, nan]\n"
     ]
    }
   ],
   "source": [
    "# NVIDIA QEC BP decoder with Stim sampling (experimental)\n",
    "import time, math, os\n",
    "import numpy as np\n",
    "\n",
    "def run_stim_experiment_nv_bp(tasks, shots):\n",
    "    try:\n",
    "        # Try common NVIDIA QEC import paths\n",
    "        try:\n",
    "            from cudaq.qec import BPDecoder as NVBP\n",
    "        except Exception:\n",
    "            import cudaq_qec as qec  # fallback module name\n",
    "            NVBP = qec.BPDecoder\n",
    "    except Exception as e:\n",
    "        print(\"NVIDIA QEC BP decoder not available. Install CUDA-Q QEC. Skipping.\")\n",
    "        return [float('nan')] * len(tasks)\n",
    "\n",
    "    from beliefmatching import detector_error_model_to_check_matrices\n",
    "\n",
    "    lers = []\n",
    "    for task in tasks:\n",
    "        p = task.json_metadata.get('pM', 0)\n",
    "        print(f\"\\n--- Running Stim + NVIDIA BP for p = {p:.1e} ---\")\n",
    "        t0 = time.perf_counter()\n",
    "\n",
    "        # Sample measurements with Stim\n",
    "        sampler = task.circuit.compile_sampler()\n",
    "        meas = sampler.sample(shots=shots)  # bool array [shots, num_measurements]\n",
    "\n",
    "        # Convert to detection events and observables\n",
    "        m2d = task.circuit.compile_m2d_converter()\n",
    "        det_samples, obs_flips = m2d.convert(measurements=meas, separate_observables=True)\n",
    "\n",
    "        # Build parity-check (H), priors, and logicals from DEM\n",
    "        dem = task.circuit.detector_error_model(decompose_errors=True, ignore_decomposition_failures=True)\n",
    "        pcm = detector_error_model_to_check_matrices(dem, allow_undecomposed_hyperedges=True)\n",
    "        H = pcm.check_matrix.astype(np.uint8)\n",
    "        priors = pcm.priors  # probabilities per error variable\n",
    "        logicals = pcm.observables_matrix.astype(np.uint8)\n",
    "\n",
    "        # Instantiate NVIDIA BP decoder\n",
    "        try:\n",
    "            try:\n",
    "                dec = NVBP(H, priors)\n",
    "            except TypeError:\n",
    "                dec = NVBP(H, error_probs=priors)\n",
    "        except Exception as e:\n",
    "            print(\"Failed to construct NVIDIA BP decoder. Adjust constructor per your installed version.\")\n",
    "            print(\"Error:\", e)\n",
    "            return [float('nan')] * len(tasks)\n",
    "\n",
    "        # Optional: threading control for decoder backends\n",
    "        cpu = os.cpu_count()*.1 or 1\n",
    "        threads_per_worker = max(1, cpu)\n",
    "        os.environ.update({\n",
    "            \"OMP_NUM_THREADS\": str(threads_per_worker),\n",
    "            \"OPENBLAS_NUM_THREADS\": str(threads_per_worker),\n",
    "            \"MKL_NUM_THREADS\": str(threads_per_worker),\n",
    "            \"VECLIB_MAXIMUM_THREADS\": str(threads_per_worker),\n",
    "            \"NUMEXPR_NUM_THREADS\": str(threads_per_worker),\n",
    "        })\n",
    "\n",
    "        # Decode each shot and tally logical errors\n",
    "        total_errors = 0\n",
    "        for det, obs in zip(det_samples, obs_flips):\n",
    "            det_u8 = det.astype(np.uint8)\n",
    "            try:\n",
    "                phys_est = dec.decode(det_u8)  # expected to return 0/1 vector over error vars\n",
    "            except Exception:\n",
    "                # Some versions expose batch or different API; try a common alternative\n",
    "                if hasattr(dec, 'decode_single'):\n",
    "                    phys_est = dec.decode_single(det_u8)\n",
    "                else:\n",
    "                    raise\n",
    "            phys_est = np.asarray(phys_est, dtype=np.uint8).reshape(-1)\n",
    "            log_pred = (logicals @ phys_est) % 2\n",
    "            if np.any(log_pred.astype(np.uint8) != obs.astype(np.uint8)):\n",
    "                total_errors += 1\n",
    "\n",
    "        ler = (total_errors / len(det_samples)) if len(det_samples) else 0.0\n",
    "        dt = time.perf_counter() - t0\n",
    "        lers.append(ler)\n",
    "        print(f\"NVIDIA BP LER: {ler:.4f}, Sim+Decoding Time: {dt:.4f}s\")\n",
    "    return lers\n",
    "\n",
    "# --- Run Stim-only experiment with NVIDIA BP (set SHOTS above) ---\n",
    "stim_logical_error_rates_nv = run_stim_experiment_nv_bp(tasks, SHOTS)\n",
    "print(\"\\nStim (NVIDIA BP) complete.\")\n",
    "print(\"Stim LERs (NV BP):\", stim_logical_error_rates_nv)"
   ]
  }
 ],
 "metadata": {
  "kernelspec": {
   "display_name": ".venv-py312",
   "language": "python",
   "name": "python3"
  },
  "language_info": {
   "codemirror_mode": {
    "name": "ipython",
    "version": 3
   },
   "file_extension": ".py",
   "mimetype": "text/x-python",
   "name": "python",
   "nbconvert_exporter": "python",
   "pygments_lexer": "ipython3",
   "version": "3.12.1"
  }
 },
 "nbformat": 4,
 "nbformat_minor": 5
}
