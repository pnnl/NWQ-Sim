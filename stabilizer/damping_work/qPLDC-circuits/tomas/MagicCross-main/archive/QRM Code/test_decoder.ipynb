{
 "cells": [
  {
   "cell_type": "code",
   "execution_count": 2,
   "id": "c7103679",
   "metadata": {},
   "outputs": [],
   "source": [
    "import numpy as np\n",
    "from itertools import product\n",
    "from typing import List, Tuple\n",
    "import sys\n",
    "sys.path.append(\"../RM127\")  # add path to the compiled module\n",
    "\n",
    "import PyDecoder_polar as scl  # this is the Cython wrapper"
   ]
  },
  {
   "cell_type": "code",
   "execution_count": 3,
   "id": "f415c34f",
   "metadata": {},
   "outputs": [],
   "source": [
    "def RM_generator_matrix(r: int, m: int, variation: str) -> Tuple[np.ndarray, List[Tuple[int]]]:\n",
    "    \n",
    "    n = 2 ** m\n",
    "    monomials = []\n",
    "\n",
    "    for deg in range(r + 1):\n",
    "        for bits in product([0, 1], repeat=m):\n",
    "            if sum(bits) == deg:\n",
    "                monomials.append(bits)\n",
    "\n",
    "    G = []\n",
    "    for mono in monomials:\n",
    "        row = []\n",
    "        for i in range(n):\n",
    "            x = [int(b) for b in bin(i)[2:].rjust(m, '0')]\n",
    "            val = 1\n",
    "            for a, xi in zip(mono, x):\n",
    "                if a == 1:\n",
    "                    val &= xi\n",
    "            row.append(val)\n",
    "        G.append(row)\n",
    "    \n",
    "    G = np.array(G, dtype=int)\n",
    "    \n",
    "    if variation == \"None\":\n",
    "        G_final = G\n",
    "        monomials_final = monomials\n",
    "    \n",
    "    if variation == \"punctured\":\n",
    "        # Remove the first column (corresponding to evaluation point 0...0)\n",
    "        G_final = G[:, 1:]\n",
    "        monomials_final = monomials\n",
    "\n",
    "    if variation == \"shortened\":\n",
    "        # Remove the first column (corresponding to evaluation point 0...0)\n",
    "        G_final = G[:, 1:]\n",
    "\n",
    "        # Remove the first row (corresponding to constant polynomial = all-0 monomial)\n",
    "        G_final = G_final[1:, :]\n",
    "        monomials_final = monomials[1:]\n",
    "        \n",
    "    return G_final, monomials_final"
   ]
  },
  {
   "cell_type": "code",
   "execution_count": null,
   "id": "d65b0c5e",
   "metadata": {},
   "outputs": [
    {
     "ename": "TypeError",
     "evalue": "'float' object cannot be interpreted as an integer",
     "output_type": "error",
     "traceback": [
      "\u001b[0;31m---------------------------------------------------------------------------\u001b[0m",
      "\u001b[0;31mTypeError\u001b[0m                                 Traceback (most recent call last)",
      "Cell \u001b[0;32mIn[9], line 20\u001b[0m\n\u001b[1;32m     18\u001b[0m noisy_y \u001b[38;5;241m=\u001b[39m scale \u001b[38;5;241m*\u001b[39m noisy_cw \u001b[38;5;241m+\u001b[39m \u001b[38;5;241m1\u001b[39m\u001b[38;5;241m/\u001b[39m\u001b[38;5;241m2\u001b[39m \u001b[38;5;241m*\u001b[39m (\u001b[38;5;241m1\u001b[39m \u001b[38;5;241m-\u001b[39m scale)  \u001b[38;5;66;03m# Convert to ±1\u001b[39;00m\n\u001b[1;32m     19\u001b[0m noisy_y \u001b[38;5;241m=\u001b[39m np\u001b[38;5;241m.\u001b[39mlog((\u001b[38;5;241m1\u001b[39m \u001b[38;5;241m-\u001b[39m noisy_y)\u001b[38;5;241m/\u001b[39mnoisy_y)  \u001b[38;5;66;03m# Convert to log-likelihood ratios\u001b[39;00m\n\u001b[0;32m---> 20\u001b[0m num_flip \u001b[38;5;241m=\u001b[39m \u001b[43mdecoder\u001b[49m\u001b[38;5;241;43m.\u001b[39;49m\u001b[43mdecode\u001b[49m\u001b[43m(\u001b[49m\u001b[43mnoisy_y\u001b[49m\u001b[38;5;241;43m.\u001b[39;49m\u001b[43mtolist\u001b[49m\u001b[43m(\u001b[49m\u001b[43m)\u001b[49m\u001b[43m)\u001b[49m\n\u001b[1;32m     21\u001b[0m \u001b[38;5;28mprint\u001b[39m(\u001b[38;5;124m\"\u001b[39m\u001b[38;5;124mTrue: \u001b[39m\u001b[38;5;124m\"\u001b[39m, true_cw, \u001b[38;5;124m\"\u001b[39m\u001b[38;5;124mNoisy: \u001b[39m\u001b[38;5;124m\"\u001b[39m, noisy_cw, \u001b[38;5;124m\"\u001b[39m\u001b[38;5;124mNum_flip: \u001b[39m\u001b[38;5;124m\"\u001b[39m, num_flip)\n\u001b[1;32m     22\u001b[0m \u001b[38;5;28;01mif\u001b[39;00m num_flip \u001b[38;5;241m!=\u001b[39m \u001b[38;5;241m0\u001b[39m:\n",
      "File \u001b[0;32m~/Research/QuantumComputing/Projects/MagicCross/RM127/src/Decoder/PyDecoder_polar.pyx:71\u001b[0m, in \u001b[0;36mPyDecoder_polar.PyDecoder_polar_SCL.decode\u001b[0;34m()\u001b[0m\n",
      "File \u001b[0;32m~/Research/QuantumComputing/Projects/MagicCross/RM127/src/Decoder/PyDecoder_polar.pyx:77\u001b[0m, in \u001b[0;36mPyDecoder_polar.PyDecoder_polar_SCL.decode\u001b[0;34m()\u001b[0m\n",
      "\u001b[0;31mTypeError\u001b[0m: 'float' object cannot be interpreted as an integer"
     ]
    }
   ],
   "source": [
    "# Parameters\n",
    "r = 1\n",
    "m = 3\n",
    "\n",
    "decoder = scl.PyDecoder_polar_SCL(r,m)\n",
    "\n",
    "# Test with shortened RM(1,3)\n",
    "variation = \"None\"\n",
    "G, _ = RM_generator_matrix(r, m, variation)\n",
    "failure = 0\n",
    "sample_num = 100\n",
    "\n",
    "for i in range(sample_num):\n",
    "    true_msg = np.random.randint(0, 2, G.shape[0])\n",
    "    true_cw = (true_msg @ G) % 2\n",
    "    noisy_cw = (true_cw + np.random.binomial(1, 0, len(true_cw))) % 2\n",
    "    noisy_y = (-1) ** noisy_cw  # Convert in [-1, 1]\n",
    "    num_flip = decoder.decode(noisy_y.tolist())\n",
    "    print(\"True: \", true_cw, \"Noisy: \", noisy_cw, \"Num_flip: \", num_flip)\n",
    "    if num_flip != 0:\n",
    "        failure += 1\n",
    "failure_rate = failure / sample_num\n",
    "print(\"Failure rate: \", failure_rate)\n"
   ]
  },
  {
   "cell_type": "code",
   "execution_count": null,
   "id": "7633e3f1",
   "metadata": {},
   "outputs": [],
   "source": [
    "failure = 0\n",
    "sample_num = 10\n",
    "scale = 0.99\n",
    "\n",
    "for i in range(sample_num):\n",
    "    true_msg = np.random.randint(0, 2, G.shape[0])\n",
    "    true_cw = (true_msg @ G) % 2\n",
    "    noisy_cw = (true_cw + np.random.binomial(1, 0.1, len(true_cw))) % 2\n",
    "    noisy_y = 0.99 * noisy_cw + 1/2 * (1 - scale)\n",
    "    candidates = rm_list_decode(y, r, m, L=4)\n",
    "    best = candidates[0][0]\n",
    "    print(best)\n",
    "    best = (1 - best) // 2\n",
    "    print(\"True: \", true_cw, \"Noisy: \", noisy_cw, \"Decoded: \", best)\n",
    "    if not np.array_equal(true_cw, best):\n",
    "        failure += 1\n",
    "failure_rate = failure / sample_num\n",
    "print(\"Failure rate: \", failure_rate)\n",
    "\n",
    "# Noisy codeword\n",
    "noisy_cw = np.random.randint(0, 2, size=2**m)\n",
    "noisy_cw = ((-1) ** noisy_cw).tolist()  # Convert to {-1, +1} representation\n",
    "decoded_cw = decoder.decode(noisy_cw)\n",
    "\n",
    "print(\"Noisy input: \", noisy_cw)\n",
    "print(\"Decoded: \", decoded_cw)\n",
    "\n",
    "# Create decoder instance"
   ]
  }
 ],
 "metadata": {
  "kernelspec": {
   "display_name": "qec_arm64",
   "language": "python",
   "name": "python3"
  },
  "language_info": {
   "codemirror_mode": {
    "name": "ipython",
    "version": 3
   },
   "file_extension": ".py",
   "mimetype": "text/x-python",
   "name": "python",
   "nbconvert_exporter": "python",
   "pygments_lexer": "ipython3",
   "version": "3.10.18"
  }
 },
 "nbformat": 4,
 "nbformat_minor": 5
}
