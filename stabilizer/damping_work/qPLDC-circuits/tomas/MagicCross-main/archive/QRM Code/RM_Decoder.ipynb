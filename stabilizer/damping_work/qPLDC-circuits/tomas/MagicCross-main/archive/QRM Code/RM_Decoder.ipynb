{
 "cells": [
  {
   "cell_type": "code",
   "execution_count": 1,
   "id": "b3fba5d4",
   "metadata": {},
   "outputs": [],
   "source": [
    "import numpy as np\n",
    "from itertools import product\n",
    "from typing import List, Tuple"
   ]
  },
  {
   "cell_type": "markdown",
   "id": "b8a3b08e",
   "metadata": {},
   "source": [
    "# Demo. Decoder for Reed-Muller Codes"
   ]
  },
  {
   "cell_type": "markdown",
   "id": "a21d7e59",
   "metadata": {},
   "source": [
    "### 1. Generator Matrix"
   ]
  },
  {
   "cell_type": "code",
   "execution_count": 2,
   "id": "6b2e7d9b",
   "metadata": {},
   "outputs": [],
   "source": [
    "def RM_generator_matrix(r: int, m: int, variation: str) -> Tuple[np.ndarray, List[Tuple[int]]]:\n",
    "    \n",
    "    n = 2 ** m\n",
    "    monomials = []\n",
    "\n",
    "    for deg in range(r + 1):\n",
    "        for bits in product([0, 1], repeat=m):\n",
    "            if sum(bits) == deg:\n",
    "                monomials.append(bits)\n",
    "\n",
    "    G = []\n",
    "    for mono in monomials:\n",
    "        row = []\n",
    "        for i in range(n):\n",
    "            x = [int(b) for b in bin(i)[2:].rjust(m, '0')]\n",
    "            val = 1\n",
    "            for a, xi in zip(mono, x):\n",
    "                if a == 1:\n",
    "                    val &= xi\n",
    "            row.append(val)\n",
    "        G.append(row)\n",
    "    \n",
    "    G = np.array(G, dtype=int)\n",
    "    \n",
    "    if variation == \"None\":\n",
    "        G_final = G\n",
    "        monomials_final = monomials\n",
    "    \n",
    "    if variation == \"punctured\":\n",
    "        # Remove the first column (corresponding to evaluation point 0...0)\n",
    "        G_final = G[:, 1:]\n",
    "        monomials_final = monomials\n",
    "\n",
    "    if variation == \"shortened\":\n",
    "        # Remove the first column (corresponding to evaluation point 0...0)\n",
    "        G_final = G[:, 1:]\n",
    "\n",
    "        # Remove the first row (corresponding to constant polynomial = all-0 monomial)\n",
    "        G_final = G_final[1:, :]\n",
    "        monomials_final = monomials[1:]\n",
    "        \n",
    "    return G_final, monomials_final"
   ]
  },
  {
   "cell_type": "code",
   "execution_count": 3,
   "id": "8880aa5b",
   "metadata": {},
   "outputs": [
    {
     "name": "stdout",
     "output_type": "stream",
     "text": [
      "RM(1,3):\n",
      "(array([[1, 1, 1, 1, 1, 1, 1, 1],\n",
      "       [0, 1, 0, 1, 0, 1, 0, 1],\n",
      "       [0, 0, 1, 1, 0, 0, 1, 1],\n",
      "       [0, 0, 0, 0, 1, 1, 1, 1]]), [(0, 0, 0), (0, 0, 1), (0, 1, 0), (1, 0, 0)])\n",
      "RM(1,4):\n",
      "(array([[1, 1, 1, 1, 1, 1, 1, 1, 1, 1, 1, 1, 1, 1, 1, 1],\n",
      "       [0, 1, 0, 1, 0, 1, 0, 1, 0, 1, 0, 1, 0, 1, 0, 1],\n",
      "       [0, 0, 1, 1, 0, 0, 1, 1, 0, 0, 1, 1, 0, 0, 1, 1],\n",
      "       [0, 0, 0, 0, 1, 1, 1, 1, 0, 0, 0, 0, 1, 1, 1, 1],\n",
      "       [0, 0, 0, 0, 0, 0, 0, 0, 1, 1, 1, 1, 1, 1, 1, 1]]), [(0, 0, 0, 0), (0, 0, 0, 1), (0, 0, 1, 0), (0, 1, 0, 0), (1, 0, 0, 0)])\n",
      "RM(2,4):\n",
      "(array([[1, 1, 1, 1, 1, 1, 1, 1, 1, 1, 1, 1, 1, 1, 1, 1],\n",
      "       [0, 1, 0, 1, 0, 1, 0, 1, 0, 1, 0, 1, 0, 1, 0, 1],\n",
      "       [0, 0, 1, 1, 0, 0, 1, 1, 0, 0, 1, 1, 0, 0, 1, 1],\n",
      "       [0, 0, 0, 0, 1, 1, 1, 1, 0, 0, 0, 0, 1, 1, 1, 1],\n",
      "       [0, 0, 0, 0, 0, 0, 0, 0, 1, 1, 1, 1, 1, 1, 1, 1],\n",
      "       [0, 0, 0, 1, 0, 0, 0, 1, 0, 0, 0, 1, 0, 0, 0, 1],\n",
      "       [0, 0, 0, 0, 0, 1, 0, 1, 0, 0, 0, 0, 0, 1, 0, 1],\n",
      "       [0, 0, 0, 0, 0, 0, 1, 1, 0, 0, 0, 0, 0, 0, 1, 1],\n",
      "       [0, 0, 0, 0, 0, 0, 0, 0, 0, 1, 0, 1, 0, 1, 0, 1],\n",
      "       [0, 0, 0, 0, 0, 0, 0, 0, 0, 0, 1, 1, 0, 0, 1, 1],\n",
      "       [0, 0, 0, 0, 0, 0, 0, 0, 0, 0, 0, 0, 1, 1, 1, 1]]), [(0, 0, 0, 0), (0, 0, 0, 1), (0, 0, 1, 0), (0, 1, 0, 0), (1, 0, 0, 0), (0, 0, 1, 1), (0, 1, 0, 1), (0, 1, 1, 0), (1, 0, 0, 1), (1, 0, 1, 0), (1, 1, 0, 0)])\n"
     ]
    }
   ],
   "source": [
    "# Test\n",
    "print(\"RM(1,3):\")\n",
    "print(RM_generator_matrix(1, 3, variation=\"None\"))\n",
    "print(\"RM(1,4):\")\n",
    "print(RM_generator_matrix(1, 4, variation=\"None\"))\n",
    "print(\"RM(2,4):\")\n",
    "print(RM_generator_matrix(2, 4, variation=\"None\"))"
   ]
  },
  {
   "cell_type": "code",
   "execution_count": 4,
   "id": "caba663e",
   "metadata": {},
   "outputs": [
    {
     "name": "stdout",
     "output_type": "stream",
     "text": [
      "RM(1,3), punctured:\n",
      "(array([[1, 1, 1, 1, 1, 1, 1],\n",
      "       [1, 0, 1, 0, 1, 0, 1],\n",
      "       [0, 1, 1, 0, 0, 1, 1],\n",
      "       [0, 0, 0, 1, 1, 1, 1]]), [(0, 0, 0), (0, 0, 1), (0, 1, 0), (1, 0, 0)])\n",
      "RM(1,4), punctured:\n",
      "(array([[1, 1, 1, 1, 1, 1, 1, 1, 1, 1, 1, 1, 1, 1, 1],\n",
      "       [1, 0, 1, 0, 1, 0, 1, 0, 1, 0, 1, 0, 1, 0, 1],\n",
      "       [0, 1, 1, 0, 0, 1, 1, 0, 0, 1, 1, 0, 0, 1, 1],\n",
      "       [0, 0, 0, 1, 1, 1, 1, 0, 0, 0, 0, 1, 1, 1, 1],\n",
      "       [0, 0, 0, 0, 0, 0, 0, 1, 1, 1, 1, 1, 1, 1, 1]]), [(0, 0, 0, 0), (0, 0, 0, 1), (0, 0, 1, 0), (0, 1, 0, 0), (1, 0, 0, 0)])\n",
      "RM(2,4), punctured:\n",
      "(array([[1, 1, 1, 1, 1, 1, 1, 1, 1, 1, 1, 1, 1, 1, 1],\n",
      "       [1, 0, 1, 0, 1, 0, 1, 0, 1, 0, 1, 0, 1, 0, 1],\n",
      "       [0, 1, 1, 0, 0, 1, 1, 0, 0, 1, 1, 0, 0, 1, 1],\n",
      "       [0, 0, 0, 1, 1, 1, 1, 0, 0, 0, 0, 1, 1, 1, 1],\n",
      "       [0, 0, 0, 0, 0, 0, 0, 1, 1, 1, 1, 1, 1, 1, 1],\n",
      "       [0, 0, 1, 0, 0, 0, 1, 0, 0, 0, 1, 0, 0, 0, 1],\n",
      "       [0, 0, 0, 0, 1, 0, 1, 0, 0, 0, 0, 0, 1, 0, 1],\n",
      "       [0, 0, 0, 0, 0, 1, 1, 0, 0, 0, 0, 0, 0, 1, 1],\n",
      "       [0, 0, 0, 0, 0, 0, 0, 0, 1, 0, 1, 0, 1, 0, 1],\n",
      "       [0, 0, 0, 0, 0, 0, 0, 0, 0, 1, 1, 0, 0, 1, 1],\n",
      "       [0, 0, 0, 0, 0, 0, 0, 0, 0, 0, 0, 1, 1, 1, 1]]), [(0, 0, 0, 0), (0, 0, 0, 1), (0, 0, 1, 0), (0, 1, 0, 0), (1, 0, 0, 0), (0, 0, 1, 1), (0, 1, 0, 1), (0, 1, 1, 0), (1, 0, 0, 1), (1, 0, 1, 0), (1, 1, 0, 0)])\n"
     ]
    }
   ],
   "source": [
    "# Test\n",
    "print(\"RM(1,3), punctured:\")\n",
    "print(RM_generator_matrix(1, 3, variation=\"punctured\"))\n",
    "print(\"RM(1,4), punctured:\")\n",
    "print(RM_generator_matrix(1, 4, variation=\"punctured\"))\n",
    "print(\"RM(2,4), punctured:\")\n",
    "print(RM_generator_matrix(2, 4, variation=\"punctured\"))"
   ]
  },
  {
   "cell_type": "code",
   "execution_count": 5,
   "id": "da93291e",
   "metadata": {},
   "outputs": [
    {
     "name": "stdout",
     "output_type": "stream",
     "text": [
      "RM(1,3), shortened:\n",
      "(array([[1, 0, 1, 0, 1, 0, 1],\n",
      "       [0, 1, 1, 0, 0, 1, 1],\n",
      "       [0, 0, 0, 1, 1, 1, 1]]), [(0, 0, 1), (0, 1, 0), (1, 0, 0)])\n",
      "RM(1,4), shortened:\n",
      "(array([[1, 0, 1, 0, 1, 0, 1, 0, 1, 0, 1, 0, 1, 0, 1],\n",
      "       [0, 1, 1, 0, 0, 1, 1, 0, 0, 1, 1, 0, 0, 1, 1],\n",
      "       [0, 0, 0, 1, 1, 1, 1, 0, 0, 0, 0, 1, 1, 1, 1],\n",
      "       [0, 0, 0, 0, 0, 0, 0, 1, 1, 1, 1, 1, 1, 1, 1]]), [(0, 0, 0, 1), (0, 0, 1, 0), (0, 1, 0, 0), (1, 0, 0, 0)])\n",
      "RM(2,4), shortened:\n",
      "(array([[1, 0, 1, 0, 1, 0, 1, 0, 1, 0, 1, 0, 1, 0, 1],\n",
      "       [0, 1, 1, 0, 0, 1, 1, 0, 0, 1, 1, 0, 0, 1, 1],\n",
      "       [0, 0, 0, 1, 1, 1, 1, 0, 0, 0, 0, 1, 1, 1, 1],\n",
      "       [0, 0, 0, 0, 0, 0, 0, 1, 1, 1, 1, 1, 1, 1, 1],\n",
      "       [0, 0, 1, 0, 0, 0, 1, 0, 0, 0, 1, 0, 0, 0, 1],\n",
      "       [0, 0, 0, 0, 1, 0, 1, 0, 0, 0, 0, 0, 1, 0, 1],\n",
      "       [0, 0, 0, 0, 0, 1, 1, 0, 0, 0, 0, 0, 0, 1, 1],\n",
      "       [0, 0, 0, 0, 0, 0, 0, 0, 1, 0, 1, 0, 1, 0, 1],\n",
      "       [0, 0, 0, 0, 0, 0, 0, 0, 0, 1, 1, 0, 0, 1, 1],\n",
      "       [0, 0, 0, 0, 0, 0, 0, 0, 0, 0, 0, 1, 1, 1, 1]]), [(0, 0, 0, 1), (0, 0, 1, 0), (0, 1, 0, 0), (1, 0, 0, 0), (0, 0, 1, 1), (0, 1, 0, 1), (0, 1, 1, 0), (1, 0, 0, 1), (1, 0, 1, 0), (1, 1, 0, 0)])\n"
     ]
    }
   ],
   "source": [
    "# Test\n",
    "print(\"RM(1,3), shortened:\")\n",
    "print(RM_generator_matrix(1, 3, variation=\"shortened\"))\n",
    "print(\"RM(1,4), shortened:\")\n",
    "print(RM_generator_matrix(1, 4, variation=\"shortened\"))\n",
    "print(\"RM(2,4), shortened:\")\n",
    "print(RM_generator_matrix(2, 4, variation=\"shortened\"))"
   ]
  },
  {
   "cell_type": "markdown",
   "id": "19647479",
   "metadata": {},
   "source": [
    "### 2. Recursive List Decoder"
   ]
  },
  {
   "cell_type": "code",
   "execution_count": 6,
   "id": "292bbbcf",
   "metadata": {},
   "outputs": [],
   "source": [
    "def repetition_ml_decoder(y: np.ndarray) -> np.ndarray:\n",
    "    \"\"\"\n",
    "    RM(0, m): all-0 or all-1 codeword; choose the better one\n",
    "    \"\"\"\n",
    "    factor = 0.99 # Avoid extreme values of y (+1 or -1)\n",
    "    score0 = np.prod((1 + factor * y) / 2)   # likelihood of all 0 codeword (+1)\n",
    "    score1 = np.prod((1 - factor * y) / 2)   # likelihood of all 1 codeword (-1)\n",
    "\n",
    "    c0 = np.ones_like(y)\n",
    "    c1 = -np.ones_like(y)\n",
    "\n",
    "    # print(f\"Repetition ML scores: {score0:.4f} (0), {score1:.4f} (1)\")\n",
    "    if score0 > score1:\n",
    "        return c0\n",
    "    elif score1 > score0:\n",
    "        return c1\n",
    "    else:\n",
    "        # If scores are equal, return with equal probability, unbiased\n",
    "        return c0 if np.random.rand() < 0.5 else c1\n",
    "\n",
    "def rm_list_decode(y, r, m, L=4) -> np.ndarray:\n",
    "    \"\"\"\n",
    "    Recursive list decoder Ψ_m^r(L)\n",
    "    y: input vector in [-1, 1]^n\n",
    "    r, m: RM(r, m)\n",
    "    L: list size\n",
    "    Returns: list of (codeword, path_cost)\n",
    "    \"\"\"\n",
    "    # print(\"r = \", r, \", m = \", m)\n",
    "    factor = 0.99  # Avoid extreme values of y (+1 or -1)\n",
    "    N = len(y)\n",
    "\n",
    "    # Base cases\n",
    "    if r == 0:\n",
    "        return repetition_ml_decoder(y)\n",
    "    if r == m:\n",
    "        # RM(m,m) is full space — just use hard-decision\n",
    "        return np.sign(y + (1-factor) * np.random.uniform(-1, 1, size=N))  # Add noise to avoid extreme values\n",
    "\n",
    "    yL, yR = y[:N//2], y[N//2:]\n",
    "\n",
    "    # Step 1: estimate v from componentwise product y_v = yL * yR\n",
    "    y_v = yL * yR\n",
    "    v_hat = rm_list_decode(y_v, r-1, m-1, L)\n",
    "\n",
    "    # Step 2: for each v_hat, estimate u_hat\n",
    "    y_hat = yR * v_hat  # Compute ŷ = yR * v_hat\n",
    "    # Compute y_u = (yL + ŷ) / (1 + yL * ŷ)\n",
    "    denom = 1 + factor * yL * y_hat\n",
    "    y_u = (yL + y_hat) / denom\n",
    "    u_hat = rm_list_decode(y_u, r, m-1, L)\n",
    "\n",
    "    cw = np.concatenate([u_hat, u_hat * v_hat])\n",
    "\n",
    "    return cw"
   ]
  },
  {
   "cell_type": "code",
   "execution_count": 7,
   "id": "56287f8f",
   "metadata": {},
   "outputs": [
    {
     "name": "stdout",
     "output_type": "stream",
     "text": [
      "Failure rate:  0.00011\n"
     ]
    }
   ],
   "source": [
    "# Test the RM list decoder with random codewords\n",
    "failure = 0\n",
    "sample_num = 100000\n",
    "\n",
    "r = 2\n",
    "m = 4\n",
    "noise = 0.001\n",
    "G, _ = RM_generator_matrix(r, m, variation=\"None\")\n",
    "\n",
    "for i in range(sample_num):\n",
    "    # Generate a random codeword\n",
    "    true_msg = np.random.randint(0, 2, G.shape[0])\n",
    "    true_cw = (true_msg @ G) % 2\n",
    "    noisy_cw = (true_cw + np.random.binomial(1, noise, len(true_cw))) % 2\n",
    "    y = (-1) ** noisy_cw\n",
    "    decoded_cw = rm_list_decode(y, r, m, L=4)\n",
    "    decoded_cw = (1 - decoded_cw) // 2  # Convert from ±1 to {0, 1}\n",
    "    if not np.array_equal(true_cw, decoded_cw):\n",
    "        failure += 1\n",
    "failure_rate = failure / sample_num\n",
    "print(\"Failure rate: \", failure_rate)"
   ]
  },
  {
   "cell_type": "markdown",
   "id": "1ab3796c",
   "metadata": {},
   "source": [
    "Then extend to the punctured and shortened version. The idea is: Given a noisy codeword, we first insert $\\pm 1$ at the 0-th bit (the punctured one), decode with the original RM decoder, and compare which one is closer to the original noisy codeword."
   ]
  },
  {
   "cell_type": "code",
   "execution_count": null,
   "id": "aacc76cf",
   "metadata": {},
   "outputs": [
    {
     "name": "stdout",
     "output_type": "stream",
     "text": [
      "Failure rate:  0.0\n",
      "Even/Odd:  0.49\n"
     ]
    }
   ],
   "source": [
    "# Test the recursive list decoder for punctured RM code\n",
    "failure = 0\n",
    "sample_num = 100\n",
    "\n",
    "r = 1\n",
    "m = 4\n",
    "noise = 0.01\n",
    "G, _ = RM_generator_matrix(r, m, variation=\"punctured\")\n",
    "\n",
    "weight_list = []\n",
    "\n",
    "for i in range(sample_num):\n",
    "    # Generate a random codeword\n",
    "    true_msg = np.random.randint(0, 2, G.shape[0])\n",
    "    true_cw = (true_msg @ G) % 2\n",
    "    noisy_cw = (true_cw + np.random.binomial(1, noise, len(true_cw))) % 2\n",
    "    \n",
    "    # Insert the 0-th bit (punctured) either 1 or -1, need to compare\n",
    "    y = (-1) ** noisy_cw\n",
    "    y0 = np.insert(y, 0, 1)  # Insert a 1 at the 0-th bit\n",
    "    y1 = np.insert(y, 0, -1)  # Insert a -1 at the 0-th bit\n",
    "    decoded_cw0 = rm_list_decode(y0, r, m, L=4)\n",
    "    decoded_cw1 = rm_list_decode(y1, r, m, L=4)\n",
    "    overlap0 = np.sum(y0 * decoded_cw0)\n",
    "    overlap1 = np.sum(y1 * decoded_cw1)\n",
    "    \n",
    "    if overlap0 > overlap1:\n",
    "        decoded_cw = decoded_cw0\n",
    "    else:\n",
    "        decoded_cw = decoded_cw1\n",
    "    \n",
    "    decoded_cw = (1 - decoded_cw[1:]) // 2  # Convert from ±1 to {0, 1}\n",
    "    if not np.array_equal(true_cw, decoded_cw):\n",
    "        failure += 1\n",
    "    weight_list.append(np.sum(decoded_cw)) # Check if the decoded codeword has similar frequency of being odd and even\n",
    "\n",
    "failure_rate = failure / sample_num\n",
    "print(\"Failure rate: \", failure_rate)\n",
    "weight_list = np.array(weight_list)\n",
    "print(\"Even/Odd: \", np.sum(weight_list % 2 == 0) / sample_num) # should be 0.5 for punctured"
   ]
  },
  {
   "cell_type": "code",
   "execution_count": 38,
   "id": "8b680f57",
   "metadata": {},
   "outputs": [
    {
     "name": "stdout",
     "output_type": "stream",
     "text": [
      "Failure rate:  6e-06\n",
      "Even/Odd:  1.0\n"
     ]
    }
   ],
   "source": [
    "# Test the recursive list decoder for punctured RM code\n",
    "failure = 0\n",
    "sample_num = 1000000\n",
    "\n",
    "r = 1\n",
    "m = 4\n",
    "noise = 0.01\n",
    "G, _ = RM_generator_matrix(r, m, variation=\"shortened\")\n",
    "\n",
    "weight_list = []\n",
    "\n",
    "for i in range(sample_num):\n",
    "    # Generate a random codeword\n",
    "    true_msg = np.random.randint(0, 2, G.shape[0])\n",
    "    true_cw = (true_msg @ G) % 2\n",
    "    noisy_cw = (true_cw + np.random.binomial(1, noise, len(true_cw))) % 2\n",
    "    \n",
    "    # Insert the 0-th bit (punctured), only insert 1 for shortend RM code\n",
    "    y = (-1) ** noisy_cw\n",
    "    y0 = np.insert(y, 0, 1)  # Insert a 1 at the 0-th bit\n",
    "    decoded_cw0 = rm_list_decode(y0, r, m, L=4)\n",
    "    decoded_cw = (1 - decoded_cw0[1:]) // 2  # Convert from ±1 to {0, 1}\n",
    "    if not np.array_equal(true_cw, decoded_cw):\n",
    "        failure += 1\n",
    "    weight_list.append(np.sum(decoded_cw)) # should be all even if shortened\n",
    "\n",
    "failure_rate = failure / sample_num\n",
    "print(\"Failure rate: \", failure_rate)\n",
    "weight_list = np.array(weight_list)\n",
    "print(\"Even/Odd: \", np.sum(weight_list % 2 == 0) / sample_num) # should be 1 for shortened"
   ]
  }
 ],
 "metadata": {
  "kernelspec": {
   "display_name": "qec_arm64",
   "language": "python",
   "name": "python3"
  },
  "language_info": {
   "codemirror_mode": {
    "name": "ipython",
    "version": 3
   },
   "file_extension": ".py",
   "mimetype": "text/x-python",
   "name": "python",
   "nbconvert_exporter": "python",
   "pygments_lexer": "ipython3",
   "version": "3.10.18"
  }
 },
 "nbformat": 4,
 "nbformat_minor": 5
}
