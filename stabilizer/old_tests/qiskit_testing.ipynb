{
 "cells": [
  {
   "cell_type": "code",
   "execution_count": 7,
   "metadata": {},
   "outputs": [
    {
     "name": "stdout",
     "output_type": "stream",
     "text": [
      "37\n",
      "Time 9.30312093700013\n"
     ]
    }
   ],
   "source": [
    "import qiskit\n",
    "import time\n",
    "import random\n",
    "from qiskit import QuantumCircuit\n",
    "from qiskit_aer import AerSimulator\n",
    "\n",
    "def benchmark_qiskit(n_qubits):\n",
    "    for each in n_qubits:\n",
    "        circuit = QuantumCircuit(each)\n",
    "        n_repeats = each\n",
    "\n",
    "        for _ in range(n_repeats):\n",
    "            circuit.h(random.randint(0, each-1))\n",
    "            num = random.randint(1, each-2)\n",
    "            pos = random.choice([-1, 1])\n",
    "            circuit.cx(num, num+pos)\n",
    "            circuit.s(random.randint(0, each-1)) \n",
    "        \n",
    "        simulator = AerSimulator(method='stabilizer')\n",
    "\n",
    "        start = time.perf_counter()\n",
    "        simulator.run(circuit)\n",
    "        end = time.perf_counter()\n",
    "        \n",
    "        print(\"Time\", end - start)\n",
    "        \n",
    "        filename = f\"/Users/garn195/Project Repositories/NWQ-Sim/stabilizer/sim_bench/qiskit_{each}.txt\"\n",
    "        with open(filename, \"w\") as file:\n",
    "            file.write(\"qiskit\\n\")\n",
    "            file.write(f\"{end - start}\\n\")\n",
    "            file.write(f\"{each}\\n\")\n",
    "\n",
    "qubit_test = []\n",
    "i = 2\n",
    "while i < 16:\n",
    "    qubit_test.append(i)\n",
    "    i *= 2\n",
    "benchmark_qiskit(qubit_test)\n"
   ]
  }
 ],
 "metadata": {
  "kernelspec": {
   "display_name": ".venv",
   "language": "python",
   "name": "python3"
  },
  "language_info": {
   "codemirror_mode": {
    "name": "ipython",
    "version": 3
   },
   "file_extension": ".py",
   "mimetype": "text/x-python",
   "name": "python",
   "nbconvert_exporter": "python",
   "pygments_lexer": "ipython3",
   "version": "3.12.5"
  }
 },
 "nbformat": 4,
 "nbformat_minor": 2
}
