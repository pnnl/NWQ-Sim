{
 "cells": [
  {
   "cell_type": "code",
   "execution_count": 2,
   "metadata": {},
   "outputs": [
    {
     "name": "stdout",
     "output_type": "stream",
     "text": [
      "Found 297 stim files.\n",
      "Converted: name=multi_measure_Z_one_round_d=9_space=7_weight=6\n",
      "Converted: name=multi_measure_Z_one_round_d=9_space=6_weight=6\n",
      "Converted: name=multi_measure_Z_one_round_d=7_space=10_weight=10\n",
      "Converted: name=multi_measure_Z_one_round_d=7_space=0_weight=6\n"
     ]
    },
    {
     "ename": "KeyboardInterrupt",
     "evalue": "",
     "output_type": "error",
     "traceback": [
      "\u001b[0;31m---------------------------------------------------------------------------\u001b[0m",
      "\u001b[0;31mKeyboardInterrupt\u001b[0m                         Traceback (most recent call last)",
      "Cell \u001b[0;32mIn[2], line 57\u001b[0m\n\u001b[1;32m     54\u001b[0m qasm_output_path \u001b[38;5;241m=\u001b[39m qasm_folder \u001b[38;5;241m/\u001b[39m (stim_file\u001b[38;5;241m.\u001b[39mstem \u001b[38;5;241m+\u001b[39m \u001b[38;5;124m\"\u001b[39m\u001b[38;5;124m.qasm\u001b[39m\u001b[38;5;124m\"\u001b[39m)\n\u001b[1;32m     55\u001b[0m qasm_output_path\u001b[38;5;241m.\u001b[39mwrite_text(qasm_str)\n\u001b[0;32m---> 57\u001b[0m clean_stim_str \u001b[38;5;241m=\u001b[39m \u001b[43mclean_stim\u001b[49m\u001b[43m(\u001b[49m\u001b[43mstim_file\u001b[49m\u001b[43m)\u001b[49m\n\u001b[1;32m     58\u001b[0m clean_stim_output_path \u001b[38;5;241m=\u001b[39m clean_stim_folder \u001b[38;5;241m/\u001b[39m (stim_file\u001b[38;5;241m.\u001b[39mname \u001b[38;5;241m+\u001b[39m \u001b[38;5;124m\"\u001b[39m\u001b[38;5;124m.stim\u001b[39m\u001b[38;5;124m\"\u001b[39m)\n\u001b[1;32m     59\u001b[0m clean_stim_output_path\u001b[38;5;241m.\u001b[39mwrite_text(clean_stim_str)\n",
      "Cell \u001b[0;32mIn[2], line 32\u001b[0m, in \u001b[0;36mclean_stim\u001b[0;34m(file_path)\u001b[0m\n\u001b[1;32m     30\u001b[0m \u001b[38;5;28;01mif\u001b[39;00m name \u001b[38;5;241m==\u001b[39m \u001b[38;5;124m\"\u001b[39m\u001b[38;5;124mCX\u001b[39m\u001b[38;5;124m\"\u001b[39m:\n\u001b[1;32m     31\u001b[0m     \u001b[38;5;28;01mfor\u001b[39;00m i \u001b[38;5;129;01min\u001b[39;00m \u001b[38;5;28mrange\u001b[39m(\u001b[38;5;241m0\u001b[39m, \u001b[38;5;28mlen\u001b[39m(targets), \u001b[38;5;241m2\u001b[39m):\n\u001b[0;32m---> 32\u001b[0m         \u001b[43mclean_circuit\u001b[49m\u001b[38;5;241;43m.\u001b[39;49m\u001b[43mappend\u001b[49m\u001b[43m(\u001b[49m\u001b[43mname\u001b[49m\u001b[43m,\u001b[49m\u001b[43m \u001b[49m\u001b[43m[\u001b[49m\u001b[43mtargets\u001b[49m\u001b[43m[\u001b[49m\u001b[43mi\u001b[49m\u001b[43m]\u001b[49m\u001b[43m,\u001b[49m\u001b[43m \u001b[49m\u001b[43mtargets\u001b[49m\u001b[43m[\u001b[49m\u001b[43mi\u001b[49m\u001b[38;5;241;43m+\u001b[39;49m\u001b[38;5;241;43m1\u001b[39;49m\u001b[43m]\u001b[49m\u001b[43m]\u001b[49m\u001b[43m)\u001b[49m\n\u001b[1;32m     33\u001b[0m \u001b[38;5;28;01melse\u001b[39;00m:\n\u001b[1;32m     34\u001b[0m     \u001b[38;5;66;03m# For other gates, split them into single-target gates\u001b[39;00m\n\u001b[1;32m     35\u001b[0m     \u001b[38;5;28;01mfor\u001b[39;00m target \u001b[38;5;129;01min\u001b[39;00m targets:\n",
      "\u001b[0;31mKeyboardInterrupt\u001b[0m: "
     ]
    }
   ],
   "source": [
    "import stim\n",
    "from pathlib import Path\n",
    "\n",
    "def stim_to_qasm(file_path: Path) -> str:\n",
    "    with file_path.open(\"r\") as f:\n",
    "        circuit_text = f.read()\n",
    "\n",
    "    circuit = stim.Circuit(circuit_text)\n",
    "    clean_circuit = circuit.without_noise()\n",
    "    qasm_str = clean_circuit.to_qasm(open_qasm_version=2, skip_dets_and_obs=True)\n",
    "    return qasm_str\n",
    "\n",
    "def clean_stim(file_path: Path) -> str:\n",
    "    with file_path.open(\"r\") as f:\n",
    "        circuit_text = f.read()\n",
    "\n",
    "    circuit = stim.Circuit(circuit_text)\n",
    "    clean_circuit = stim.Circuit()\n",
    "\n",
    "    for instruction in circuit:\n",
    "        name = instruction.name\n",
    "        if name in {\"DETECTOR\", \"OBSERVABLE_INCLUDE\", \"QUBIT_COORDS\"}:\n",
    "            continue  # skip metadata and detectors\n",
    "        if any(\"rec[\" in str(t) for t in instruction.targets_copy()):\n",
    "            continue  # skip feedback instructions\n",
    "\n",
    "        targets = instruction.targets_copy()\n",
    "\n",
    "        # Special handling for multi-target CX gates\n",
    "        if name == \"CX\":\n",
    "            for i in range(0, len(targets), 2):\n",
    "                clean_circuit.append(name, [targets[i], targets[i+1]])\n",
    "        else:\n",
    "            # For other gates, split them into single-target gates\n",
    "            for target in targets:\n",
    "                clean_circuit.append(name, target)\n",
    "\n",
    "    return str(clean_circuit)\n",
    "\n",
    "\n",
    "source_folder = Path(\"/Users/garn195/Project Repositories/Stim_Benchmarks/Circuits/Pauli_product\")\n",
    "qasm_folder = Path(\"/Users/garn195/Project Repositories/NWQ-Sim/stabilizer/stim_to_qasm_files\")\n",
    "clean_stim_folder = Path(\"/Users/garn195/Project Repositories/NWQ-Sim/stabilizer/stim_to_stim_files\")\n",
    "\n",
    "qasm_folder.mkdir(parents=True, exist_ok=True)\n",
    "clean_stim_folder.mkdir(parents=True, exist_ok=True)\n",
    "\n",
    "stim_files = list(source_folder.rglob(\"*\"))\n",
    "print(f\"Found {len(stim_files)} stim files.\")\n",
    "\n",
    "for stim_file in stim_files:\n",
    "    try:\n",
    "        qasm_str = stim_to_qasm(stim_file)\n",
    "        qasm_output_path = qasm_folder / (stim_file.stem + \".qasm\")\n",
    "        qasm_output_path.write_text(qasm_str)\n",
    "\n",
    "        clean_stim_str = clean_stim(stim_file)\n",
    "        clean_stim_output_path = clean_stim_folder / (stim_file.name + \".stim\")\n",
    "        clean_stim_output_path.write_text(clean_stim_str)\n",
    "\n",
    "        print(f\"Converted: {stim_file.name}\")\n",
    "\n",
    "    except Exception as e:\n",
    "        print(f\"Error processing {stim_file.name}: {e}\")\n",
    "\n"
   ]
  }
 ],
 "metadata": {
  "kernelspec": {
   "display_name": ".venv",
   "language": "python",
   "name": "python3"
  },
  "language_info": {
   "codemirror_mode": {
    "name": "ipython",
    "version": 3
   },
   "file_extension": ".py",
   "mimetype": "text/x-python",
   "name": "python",
   "nbconvert_exporter": "python",
   "pygments_lexer": "ipython3",
   "version": "3.12.5"
  }
 },
 "nbformat": 4,
 "nbformat_minor": 2
}
