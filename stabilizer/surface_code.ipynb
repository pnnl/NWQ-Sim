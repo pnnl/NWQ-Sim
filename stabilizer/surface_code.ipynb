{
 "cells": [
  {
   "cell_type": "code",
   "execution_count": null,
   "id": "d9631626",
   "metadata": {},
   "outputs": [],
   "source": [
    "import stim\n",
    "import time\n",
    "import numpy as np\n",
    "\n",
    "import matplotlib.pyplot as plt\n",
    "\n",
    "# Test different distances\n",
    "distances = range(3, 12, 2)\n",
    "times = []\n",
    "\n",
    "for d in distances:\n",
    "    # Create surface code circuit\n",
    "    circuit = stim.Circuit.generated('surface_code:rotated_memory_x',\n",
    "                                   distance=d,\n",
    "                                   rounds=d)\n",
    "    \n",
    "    # Time the tableau simulation\n",
    "    start = time.perf_counter()\n",
    "    simulator = stim.TableauSimulator()\n",
    "    simulator.do_circuit(circuit)\n",
    "    end = time.perf_counter()\n",
    "    \n",
    "    times.append(end - start)\n",
    "\n",
    "# Plot results\n",
    "plt.figure(figsize=(10,6))\n",
    "plt.plot(distances, times, 'bo-')\n",
    "plt.xlabel('Code Distance')\n",
    "plt.ylabel('Simulation Time (seconds)')\n",
    "plt.title('Surface Code Memory Simulation Time vs Distance')\n",
    "plt.grid(True)\n",
    "plt.show()"
   ]
  }
 ],
 "metadata": {
  "language_info": {
   "name": "python"
  }
 },
 "nbformat": 4,
 "nbformat_minor": 5
}
